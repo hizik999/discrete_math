{
 "cells": [
  {
   "cell_type": "markdown",
   "metadata": {},
   "source": [
    "1. напишите программу, которая для заданных двух множеств вычисляет мощность их объединения;\n",
    "2. напишите программу, которая для заданных двух множеств вычисляет мощность их симметрической разности;\n",
    "3. то же, что в п.1, но для трех множеств;\n",
    "4. то же, что в п.2, но для трех множеств."
   ]
  },
  {
   "cell_type": "markdown",
   "metadata": {},
   "source": [
    "# 1. напишите программу, которая для заданных двух множеств вычисляет мощность их объединения;"
   ]
  },
  {
   "cell_type": "code",
   "execution_count": 12,
   "metadata": {},
   "outputs": [
    {
     "name": "stdout",
     "output_type": "stream",
     "text": [
      "{1, 2, 3, 4, 5, 6, 8}\n",
      "7\n"
     ]
    }
   ],
   "source": [
    "a = set([1, 2, 3, 4, 5])\n",
    "b = set([2, 4, 6, 8])\n",
    "\n",
    "unite = set([x for x in a] + [x for x in b])\n",
    "power = len(unite)\n",
    "print(unite)\n",
    "print(power)"
   ]
  },
  {
   "cell_type": "markdown",
   "metadata": {},
   "source": [
    "# 2. напишите программу, которая для заданных двух множеств вычисляет мощность их симметрической разности;"
   ]
  },
  {
   "cell_type": "code",
   "execution_count": 13,
   "metadata": {},
   "outputs": [
    {
     "name": "stdout",
     "output_type": "stream",
     "text": [
      "{1, 3, 5, 6, 8}\n",
      "5\n"
     ]
    }
   ],
   "source": [
    "a = set([1, 2, 3, 4, 5])\n",
    "b = set([2, 4, 6, 8])\n",
    "\n",
    "sym_dif = set([x for x in b if x not in a] + [x for x in a if x not in b])\n",
    "len_sym_dif = len(sym_dif)\n",
    "\n",
    "print(sym_dif)\n",
    "print(len_sym_dif)"
   ]
  },
  {
   "cell_type": "markdown",
   "metadata": {},
   "source": [
    "# 3. то же, что в п.1, но для трех множеств;"
   ]
  },
  {
   "cell_type": "code",
   "execution_count": 14,
   "metadata": {},
   "outputs": [
    {
     "name": "stdout",
     "output_type": "stream",
     "text": [
      "{1, 2, 3, 4, 5, 6, 7, 8, 9}\n",
      "9\n"
     ]
    }
   ],
   "source": [
    "a = set([1, 2, 3, 4, 5])\n",
    "b = set([2, 4, 6, 8])\n",
    "c = set([1, 3, 4, 7, 8, 9])\n",
    "\n",
    "unite = set([x for x in a] + [x for x in b] + [x for x in c])\n",
    "power = len(unite)\n",
    "print(unite)\n",
    "print(power)"
   ]
  },
  {
   "cell_type": "markdown",
   "metadata": {},
   "source": [
    "# 4. то же, что в п.2, но для трех множеств."
   ]
  },
  {
   "cell_type": "code",
   "execution_count": 16,
   "metadata": {},
   "outputs": [
    {
     "name": "stdout",
     "output_type": "stream",
     "text": [
      "{9, 5, 6, 7}\n",
      "4\n"
     ]
    }
   ],
   "source": [
    "a = set([1, 2, 3, 4, 5])\n",
    "b = set([2, 4, 6, 8])\n",
    "c = set([1, 3, 4, 7, 8, 9])\n",
    "\n",
    "sym_dif = set(\n",
    "      [x for x in a if x not in b and x not in c] \n",
    "    + [x for x in b if x not in a and x not in c] \n",
    "    + [x for x in c if x not in a and x not in b])\n",
    "len_sym_dif = len(sym_dif)\n",
    "\n",
    "print(sym_dif)\n",
    "print(len_sym_dif)"
   ]
  }
 ],
 "metadata": {
  "kernelspec": {
   "display_name": "venv",
   "language": "python",
   "name": "python3"
  },
  "language_info": {
   "codemirror_mode": {
    "name": "ipython",
    "version": 3
   },
   "file_extension": ".py",
   "mimetype": "text/x-python",
   "name": "python",
   "nbconvert_exporter": "python",
   "pygments_lexer": "ipython3",
   "version": "3.11.5"
  }
 },
 "nbformat": 4,
 "nbformat_minor": 2
}
