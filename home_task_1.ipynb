{
 "cells": [
  {
   "cell_type": "markdown",
   "metadata": {},
   "source": [
    "# задача 1 \n",
    "    придумайте способ перенумеровать все целые числа, иными словами, установить взаимно однозначное соответствие между множеством натуральных чисел и множеством целых чисел (данный пункт можно пропустить, если взять способ, рассмотренный на первой лекции);\n",
    "\n",
    "решение:\n",
    "    число 0 будет иметь номер 0\n",
    "    числа > 0 будут иметь нечетные номера (1 - 1, 2 - 3, 3 - 5, ...)\n",
    "    числа < 0 будут иметь четные номера (-1 - 2, -2 - 4, -3 - 6, ...)"
   ]
  },
  {
   "cell_type": "markdown",
   "metadata": {},
   "source": [
    "# задача 2\n",
    "    напишите программу, которая для заданного целого числа вычисляет его номер по способу из п.1;"
   ]
  },
  {
   "cell_type": "code",
   "execution_count": 11,
   "metadata": {},
   "outputs": [
    {
     "name": "stdout",
     "output_type": "stream",
     "text": [
      "1 -> 1\n",
      "2 -> 3\n",
      "3 -> 5\n",
      "-1 -> 2\n",
      "-2 -> 4\n",
      "-3 -> 6\n",
      "0 -> 0\n"
     ]
    }
   ],
   "source": [
    "def int_to_natural(n):\n",
    "    if n == 0:\n",
    "        return 0\n",
    "    elif n > 0:\n",
    "        return 2 * n - 1\n",
    "    else:\n",
    "        return 2 * abs(n)\n",
    "\n",
    "nums = [1, 2, 3, -1, -2, -3, 0]\n",
    "for num in nums:\n",
    "    print(f\"{num} -> {int_to_natural(num)}\")"
   ]
  },
  {
   "cell_type": "markdown",
   "metadata": {},
   "source": [
    "# задача 3\n",
    "    напишите программу, которая для заданного натурального числа определяет какое целое число оно нумерует по способу из п.1."
   ]
  },
  {
   "cell_type": "code",
   "execution_count": 17,
   "metadata": {},
   "outputs": [
    {
     "name": "stdout",
     "output_type": "stream",
     "text": [
      "1 -> 1\n",
      "3 -> 2\n",
      "5 -> 3\n",
      "2 -> -1\n",
      "4 -> -2\n",
      "6 -> -3\n",
      "0 -> 0\n"
     ]
    }
   ],
   "source": [
    "def natural_to_int(n):\n",
    "    if n == 0:\n",
    "        return 0\n",
    "    elif n % 2 == 0:\n",
    "        return - n // 2\n",
    "    else:\n",
    "        return (n + 1) // 2\n",
    "\n",
    "naturals = [1, 3, 5, 2, 4, 6, 0]\n",
    "for natural in naturals:\n",
    "    print(f\"{natural} -> {natural_to_int(natural)}\")"
   ]
  }
 ],
 "metadata": {
  "kernelspec": {
   "display_name": "venv",
   "language": "python",
   "name": "python3"
  },
  "language_info": {
   "codemirror_mode": {
    "name": "ipython",
    "version": 3
   },
   "file_extension": ".py",
   "mimetype": "text/x-python",
   "name": "python",
   "nbconvert_exporter": "python",
   "pygments_lexer": "ipython3",
   "version": "3.11.5"
  }
 },
 "nbformat": 4,
 "nbformat_minor": 2
}
